{
 "cells": [
  {
   "cell_type": "code",
   "execution_count": 2,
   "metadata": {
    "collapsed": true
   },
   "outputs": [],
   "source": [
    "import pandas as pd\n"
   ]
  },
  {
   "cell_type": "code",
   "execution_count": 4,
   "outputs": [
    {
     "data": {
      "text/plain": "            code  category   price      date\n0              1         5  1.0000  20011218\n1              1         5  1.0000  20011221\n2              1         5  1.0000  20011228\n3              1         5  1.0000  20011231\n4              1         5  1.0000  20020104\n...          ...       ...     ...       ...\n18214838  980003         5  1.5568  20230203\n18214839  980003         5  1.5573  20230206\n18214840  980003         5  1.5575  20230207\n18214841  980003         5  1.5577  20230208\n18214842  980003         5  1.5579  20230209\n\n[18214843 rows x 4 columns]",
      "text/html": "<div>\n<style scoped>\n    .dataframe tbody tr th:only-of-type {\n        vertical-align: middle;\n    }\n\n    .dataframe tbody tr th {\n        vertical-align: top;\n    }\n\n    .dataframe thead th {\n        text-align: right;\n    }\n</style>\n<table border=\"1\" class=\"dataframe\">\n  <thead>\n    <tr style=\"text-align: right;\">\n      <th></th>\n      <th>code</th>\n      <th>category</th>\n      <th>price</th>\n      <th>date</th>\n    </tr>\n  </thead>\n  <tbody>\n    <tr>\n      <th>0</th>\n      <td>1</td>\n      <td>5</td>\n      <td>1.0000</td>\n      <td>20011218</td>\n    </tr>\n    <tr>\n      <th>1</th>\n      <td>1</td>\n      <td>5</td>\n      <td>1.0000</td>\n      <td>20011221</td>\n    </tr>\n    <tr>\n      <th>2</th>\n      <td>1</td>\n      <td>5</td>\n      <td>1.0000</td>\n      <td>20011228</td>\n    </tr>\n    <tr>\n      <th>3</th>\n      <td>1</td>\n      <td>5</td>\n      <td>1.0000</td>\n      <td>20011231</td>\n    </tr>\n    <tr>\n      <th>4</th>\n      <td>1</td>\n      <td>5</td>\n      <td>1.0000</td>\n      <td>20020104</td>\n    </tr>\n    <tr>\n      <th>...</th>\n      <td>...</td>\n      <td>...</td>\n      <td>...</td>\n      <td>...</td>\n    </tr>\n    <tr>\n      <th>18214838</th>\n      <td>980003</td>\n      <td>5</td>\n      <td>1.5568</td>\n      <td>20230203</td>\n    </tr>\n    <tr>\n      <th>18214839</th>\n      <td>980003</td>\n      <td>5</td>\n      <td>1.5573</td>\n      <td>20230206</td>\n    </tr>\n    <tr>\n      <th>18214840</th>\n      <td>980003</td>\n      <td>5</td>\n      <td>1.5575</td>\n      <td>20230207</td>\n    </tr>\n    <tr>\n      <th>18214841</th>\n      <td>980003</td>\n      <td>5</td>\n      <td>1.5577</td>\n      <td>20230208</td>\n    </tr>\n    <tr>\n      <th>18214842</th>\n      <td>980003</td>\n      <td>5</td>\n      <td>1.5579</td>\n      <td>20230209</td>\n    </tr>\n  </tbody>\n</table>\n<p>18214843 rows × 4 columns</p>\n</div>"
     },
     "execution_count": 4,
     "metadata": {},
     "output_type": "execute_result"
    }
   ],
   "source": [
    "df=pd.read_parquet(\"data/one.parquet\", engine=\"pyarrow\")\n",
    "df"
   ],
   "metadata": {
    "collapsed": false
   }
  },
  {
   "cell_type": "code",
   "execution_count": 5,
   "outputs": [
    {
     "data": {
      "text/plain": "array([     1,      3,      4, ..., 970207, 970208, 980003], dtype=int32)"
     },
     "execution_count": 5,
     "metadata": {},
     "output_type": "execute_result"
    }
   ],
   "source": [
    "df[\"code\"].unique()"
   ],
   "metadata": {
    "collapsed": false
   }
  },
  {
   "cell_type": "code",
   "execution_count": 14,
   "outputs": [
    {
     "data": {
      "text/plain": "array([ 20001,  20002,  20003, ..., 970207, 970208, 980003], dtype=int32)"
     },
     "execution_count": 14,
     "metadata": {},
     "output_type": "execute_result"
    }
   ],
   "source": [
    "df2[\"code\"].unique()"
   ],
   "metadata": {
    "collapsed": false
   }
  },
  {
   "cell_type": "code",
   "execution_count": 13,
   "outputs": [
    {
     "data": {
      "text/plain": "         code  category   price      date\n0           1         5  1.0000  20011218\n1           1         5  1.0000  20011221\n2           1         5  1.0000  20011228\n3           1         5  1.0000  20011231\n4           1         5  1.0000  20020104\n...       ...       ...     ...       ...\n4363312  2999         5  1.0189  20180308\n4363313  2999         5  1.0200  20180309\n4363314  2999         5  1.0189  20180312\n4363315  2999         5  1.0186  20180313\n4363316  2999         5  1.0165  20180314\n\n[4363317 rows x 4 columns]",
      "text/html": "<div>\n<style scoped>\n    .dataframe tbody tr th:only-of-type {\n        vertical-align: middle;\n    }\n\n    .dataframe tbody tr th {\n        vertical-align: top;\n    }\n\n    .dataframe thead th {\n        text-align: right;\n    }\n</style>\n<table border=\"1\" class=\"dataframe\">\n  <thead>\n    <tr style=\"text-align: right;\">\n      <th></th>\n      <th>code</th>\n      <th>category</th>\n      <th>price</th>\n      <th>date</th>\n    </tr>\n  </thead>\n  <tbody>\n    <tr>\n      <th>0</th>\n      <td>1</td>\n      <td>5</td>\n      <td>1.0000</td>\n      <td>20011218</td>\n    </tr>\n    <tr>\n      <th>1</th>\n      <td>1</td>\n      <td>5</td>\n      <td>1.0000</td>\n      <td>20011221</td>\n    </tr>\n    <tr>\n      <th>2</th>\n      <td>1</td>\n      <td>5</td>\n      <td>1.0000</td>\n      <td>20011228</td>\n    </tr>\n    <tr>\n      <th>3</th>\n      <td>1</td>\n      <td>5</td>\n      <td>1.0000</td>\n      <td>20011231</td>\n    </tr>\n    <tr>\n      <th>4</th>\n      <td>1</td>\n      <td>5</td>\n      <td>1.0000</td>\n      <td>20020104</td>\n    </tr>\n    <tr>\n      <th>...</th>\n      <td>...</td>\n      <td>...</td>\n      <td>...</td>\n      <td>...</td>\n    </tr>\n    <tr>\n      <th>4363312</th>\n      <td>2999</td>\n      <td>5</td>\n      <td>1.0189</td>\n      <td>20180308</td>\n    </tr>\n    <tr>\n      <th>4363313</th>\n      <td>2999</td>\n      <td>5</td>\n      <td>1.0200</td>\n      <td>20180309</td>\n    </tr>\n    <tr>\n      <th>4363314</th>\n      <td>2999</td>\n      <td>5</td>\n      <td>1.0189</td>\n      <td>20180312</td>\n    </tr>\n    <tr>\n      <th>4363315</th>\n      <td>2999</td>\n      <td>5</td>\n      <td>1.0186</td>\n      <td>20180313</td>\n    </tr>\n    <tr>\n      <th>4363316</th>\n      <td>2999</td>\n      <td>5</td>\n      <td>1.0165</td>\n      <td>20180314</td>\n    </tr>\n  </tbody>\n</table>\n<p>4363317 rows × 4 columns</p>\n</div>"
     },
     "execution_count": 13,
     "metadata": {},
     "output_type": "execute_result"
    }
   ],
   "source": [
    "df3=pd.read_parquet(\"data/003000.parquet\", engine=\"pyarrow\")\n",
    "df3"
   ],
   "metadata": {
    "collapsed": false
   }
  },
  {
   "cell_type": "code",
   "execution_count": 15,
   "outputs": [
    {
     "data": {
      "text/plain": "array([   1,    3,    4, ..., 2997, 2998, 2999], dtype=int32)"
     },
     "execution_count": 15,
     "metadata": {},
     "output_type": "execute_result"
    }
   ],
   "source": [
    "df3[\"code\"].unique()"
   ],
   "metadata": {
    "collapsed": false
   }
  },
  {
   "cell_type": "code",
   "execution_count": 17,
   "outputs": [
    {
     "data": {
      "text/plain": "array([3000, 3001, 3002, ..., 5997, 5998, 5999], dtype=int32)"
     },
     "execution_count": 17,
     "metadata": {},
     "output_type": "execute_result"
    }
   ],
   "source": [
    "df4=pd.read_parquet(\"data/006000.parquet\", engine=\"pyarrow\")\n",
    "df4[\"code\"].unique()"
   ],
   "metadata": {
    "collapsed": false
   }
  },
  {
   "cell_type": "code",
   "execution_count": 1,
   "outputs": [],
   "source": [
    "import pandas as pd"
   ],
   "metadata": {
    "collapsed": false
   }
  },
  {
   "cell_type": "code",
   "execution_count": 5,
   "outputs": [],
   "source": [
    "df=pd.read_csv(\"/Users/lipi/Library/Mobile \"\n",
    "               \"Documents/com~apple~CloudDocs/indicator/qt/stock.csv\", encoding=\"utf-8\")"
   ],
   "metadata": {
    "collapsed": false
   }
  },
  {
   "cell_type": "code",
   "execution_count": 11,
   "outputs": [
    {
     "data": {
      "text/plain": "  1;\"sh601200\";\"2020-01-16\";\"12.28\";\"12.31\";\"12.00\";\"12.03\";\"-0.017157000000\";\"7420700.00\";\"89560000.00\";\"10516000000.00\";\"10988000000.00\";\"0.008489000000\";\"15.804189000000\";\"2018-10-31 00:00:00\";\"2018-09-30\";\"20.826713000000\";\"N;\"12.67056300\";\"1.891151000000\";\"12.03\";\"2020-01-18 15:21:19\";\"2020-01-18 15:21:19\"\n0  2;\"sh601200\";\"2020-01-15\";\"12.33\";\"12.43\";\"12....                                                                                                                                                                                                                                                                    \n1  3;\"sh601200\";\"2020-01-14\";\"12.03\";\"12.58\";\"11....                                                                                                                                                                                                                                                                    \n2  4;\"sh601200\";\"2020-01-13\";\"12.10\";\"12.10\";\"11....                                                                                                                                                                                                                                                                    \n3  5;\"sh601200\";\"2020-01-10\";\"12.20\";\"12.26\";\"11....                                                                                                                                                                                                                                                                    \n4  6;\"sh601200\";\"2020-01-09\";\"11.87\";\"12.29\";\"11....                                                                                                                                                                                                                                                                    \n5  7;\"sh601200\";\"2020-01-08\";\"11.71\";\"12.12\";\"11....                                                                                                                                                                                                                                                                    \n6  8;\"sh601200\";\"2020-01-07\";\"11.50\";\"11.86\";\"11....                                                                                                                                                                                                                                                                    \n7  9;\"sh601200\";\"2020-01-06\";\"11.19\";\"11.38\";\"11....                                                                                                                                                                                                                                                                    \n8  10;\"sh601200\";\"2020-01-03\";\"11.29\";\"11.32\";\"11...                                                                                                                                                                                                                                                                    \n9  11;\"sh601200\";\"2020-01-02\";\"11.16\";\"11.28\";\"11...                                                                                                                                                                                                                                                                    ",
      "text/html": "<div>\n<style scoped>\n    .dataframe tbody tr th:only-of-type {\n        vertical-align: middle;\n    }\n\n    .dataframe tbody tr th {\n        vertical-align: top;\n    }\n\n    .dataframe thead th {\n        text-align: right;\n    }\n</style>\n<table border=\"1\" class=\"dataframe\">\n  <thead>\n    <tr style=\"text-align: right;\">\n      <th></th>\n      <th>1;\"sh601200\";\"2020-01-16\";\"12.28\";\"12.31\";\"12.00\";\"12.03\";\"-0.017157000000\";\"7420700.00\";\"89560000.00\";\"10516000000.00\";\"10988000000.00\";\"0.008489000000\";\"15.804189000000\";\"2018-10-31 00:00:00\";\"2018-09-30\";\"20.826713000000\";\"N;\"12.67056300\";\"1.891151000000\";\"12.03\";\"2020-01-18 15:21:19\";\"2020-01-18 15:21:19\"</th>\n    </tr>\n  </thead>\n  <tbody>\n    <tr>\n      <th>0</th>\n      <td>2;\"sh601200\";\"2020-01-15\";\"12.33\";\"12.43\";\"12....</td>\n    </tr>\n    <tr>\n      <th>1</th>\n      <td>3;\"sh601200\";\"2020-01-14\";\"12.03\";\"12.58\";\"11....</td>\n    </tr>\n    <tr>\n      <th>2</th>\n      <td>4;\"sh601200\";\"2020-01-13\";\"12.10\";\"12.10\";\"11....</td>\n    </tr>\n    <tr>\n      <th>3</th>\n      <td>5;\"sh601200\";\"2020-01-10\";\"12.20\";\"12.26\";\"11....</td>\n    </tr>\n    <tr>\n      <th>4</th>\n      <td>6;\"sh601200\";\"2020-01-09\";\"11.87\";\"12.29\";\"11....</td>\n    </tr>\n    <tr>\n      <th>5</th>\n      <td>7;\"sh601200\";\"2020-01-08\";\"11.71\";\"12.12\";\"11....</td>\n    </tr>\n    <tr>\n      <th>6</th>\n      <td>8;\"sh601200\";\"2020-01-07\";\"11.50\";\"11.86\";\"11....</td>\n    </tr>\n    <tr>\n      <th>7</th>\n      <td>9;\"sh601200\";\"2020-01-06\";\"11.19\";\"11.38\";\"11....</td>\n    </tr>\n    <tr>\n      <th>8</th>\n      <td>10;\"sh601200\";\"2020-01-03\";\"11.29\";\"11.32\";\"11...</td>\n    </tr>\n    <tr>\n      <th>9</th>\n      <td>11;\"sh601200\";\"2020-01-02\";\"11.16\";\"11.28\";\"11...</td>\n    </tr>\n  </tbody>\n</table>\n</div>"
     },
     "execution_count": 11,
     "metadata": {},
     "output_type": "execute_result"
    }
   ],
   "source": [
    "df.head(10)"
   ],
   "metadata": {
    "collapsed": false
   }
  },
  {
   "cell_type": "code",
   "execution_count": 8,
   "outputs": [
    {
     "ename": "ModuleNotFoundError",
     "evalue": "No module named 'xorbits'",
     "output_type": "error",
     "traceback": [
      "\u001B[0;31m---------------------------------------------------------------------------\u001B[0m",
      "\u001B[0;31mModuleNotFoundError\u001B[0m                       Traceback (most recent call last)",
      "Cell \u001B[0;32mIn[8], line 1\u001B[0m\n\u001B[0;32m----> 1\u001B[0m \u001B[38;5;28;01mimport\u001B[39;00m \u001B[38;5;21;01mxorbits\u001B[39;00m\u001B[38;5;21;01m.\u001B[39;00m\u001B[38;5;21;01mpandas\u001B[39;00m \u001B[38;5;28;01mas\u001B[39;00m \u001B[38;5;21;01mpd\u001B[39;00m\n",
      "\u001B[0;31mModuleNotFoundError\u001B[0m: No module named 'xorbits'"
     ]
    }
   ],
   "source": [
    "import xorbits.pandas as pd"
   ],
   "metadata": {
    "collapsed": false
   }
  },
  {
   "cell_type": "code",
   "execution_count": 1,
   "outputs": [
    {
     "name": "stdout",
     "output_type": "stream",
     "text": [
      "Collecting xorbits\r\n",
      "  Using cached xorbits-0.2.0-cp310-cp310-macosx_10_9_universal2.whl (5.2 MB)\r\n",
      "Requirement already satisfied: pyyaml>=5.1 in /Users/lipi/github/arbeider/.env310/lib/python3.10/site-packages (from xorbits) (6.0)\r\n",
      "Collecting tqdm>=4.1.0\r\n",
      "  Using cached tqdm-4.64.1-py2.py3-none-any.whl (78 kB)\r\n",
      "Requirement already satisfied: defusedxml>=0.5.0 in /Users/lipi/github/arbeider/.env310/lib/python3.10/site-packages (from xorbits) (0.7.1)\r\n",
      "Collecting scipy>=1.0.0\r\n",
      "  Using cached scipy-1.10.1-cp310-cp310-macosx_12_0_arm64.whl (28.8 MB)\r\n",
      "Collecting cloudpickle>=1.5.0\r\n",
      "  Downloading cloudpickle-2.2.1-py3-none-any.whl (25 kB)\r\n",
      "Requirement already satisfied: tornado>=6.0 in /Users/lipi/github/arbeider/.env310/lib/python3.10/site-packages (from xorbits) (6.2)\r\n",
      "Collecting sqlalchemy>=1.2.0\r\n",
      "  Downloading SQLAlchemy-2.0.4-cp310-cp310-macosx_11_0_arm64.whl (1.9 MB)\r\n",
      "\u001B[2K     \u001B[90m━━━━━━━━━━━━━━━━━━━━━━━━━━━━━━━━━━━━━━━━\u001B[0m \u001B[32m1.9/1.9 MB\u001B[0m \u001B[31m3.1 MB/s\u001B[0m eta \u001B[36m0:00:00\u001B[0m00:01\u001B[0m00:01\u001B[0m0m\r\n",
      "\u001B[?25hCollecting uvloop>=0.14.0\r\n",
      "  Using cached uvloop-0.17.0-cp310-cp310-macosx_10_9_universal2.whl (2.1 MB)\r\n",
      "Requirement already satisfied: psutil>=5.9.0 in /Users/lipi/github/arbeider/.env310/lib/python3.10/site-packages (from xorbits) (5.9.4)\r\n",
      "Collecting pandas>=1.0.0\r\n",
      "  Downloading pandas-1.5.3-cp310-cp310-macosx_11_0_arm64.whl (10.9 MB)\r\n",
      "\u001B[2K     \u001B[90m━━━━━━━━━━━━━━━━━━━━━━━━━━━━━━━━━━━━━━━━\u001B[0m \u001B[32m10.9/10.9 MB\u001B[0m \u001B[31m5.3 MB/s\u001B[0m eta \u001B[36m0:00:00\u001B[0m00:01\u001B[0m00:01\u001B[0m\r\n",
      "\u001B[?25hCollecting scikit-learn>=0.20\r\n",
      "  Using cached scikit_learn-1.2.1-cp310-cp310-macosx_12_0_arm64.whl (8.4 MB)\r\n",
      "Collecting numpy>=1.14.0\r\n",
      "  Downloading numpy-1.24.2-cp310-cp310-macosx_11_0_arm64.whl (13.9 MB)\r\n",
      "\u001B[2K     \u001B[90m━━━━━━━━━━━━━━━━━━━━━━━━━━━━━━━━━━━━━━━━\u001B[0m \u001B[32m13.9/13.9 MB\u001B[0m \u001B[31m3.9 MB/s\u001B[0m eta \u001B[36m0:00:00\u001B[0m00:01\u001B[0m00:01\u001B[0m\r\n",
      "\u001B[?25hCollecting pytz>=2020.1\r\n",
      "  Using cached pytz-2022.7.1-py2.py3-none-any.whl (499 kB)\r\n",
      "Requirement already satisfied: python-dateutil>=2.8.1 in /Users/lipi/github/arbeider/.env310/lib/python3.10/site-packages (from pandas>=1.0.0->xorbits) (2.8.2)\r\n",
      "Collecting threadpoolctl>=2.0.0\r\n",
      "  Using cached threadpoolctl-3.1.0-py3-none-any.whl (14 kB)\r\n",
      "Collecting joblib>=1.1.1\r\n",
      "  Using cached joblib-1.2.0-py3-none-any.whl (297 kB)\r\n",
      "Collecting typing-extensions>=4.2.0\r\n",
      "  Downloading typing_extensions-4.5.0-py3-none-any.whl (27 kB)\r\n",
      "Requirement already satisfied: six>=1.5 in /Users/lipi/github/arbeider/.env310/lib/python3.10/site-packages (from python-dateutil>=2.8.1->pandas>=1.0.0->xorbits) (1.16.0)\r\n",
      "Installing collected packages: pytz, uvloop, typing-extensions, tqdm, threadpoolctl, numpy, joblib, cloudpickle, sqlalchemy, scipy, pandas, scikit-learn, xorbits\r\n",
      "Successfully installed cloudpickle-2.2.1 joblib-1.2.0 numpy-1.24.2 pandas-1.5.3 pytz-2022.7.1 scikit-learn-1.2.1 scipy-1.10.1 sqlalchemy-2.0.4 threadpoolctl-3.1.0 tqdm-4.64.1 typing-extensions-4.5.0 uvloop-0.17.0 xorbits-0.2.0\r\n",
      "\r\n",
      "\u001B[1m[\u001B[0m\u001B[34;49mnotice\u001B[0m\u001B[1;39;49m]\u001B[0m\u001B[39;49m A new release of pip available: \u001B[0m\u001B[31;49m22.2.2\u001B[0m\u001B[39;49m -> \u001B[0m\u001B[32;49m23.0.1\u001B[0m\r\n",
      "\u001B[1m[\u001B[0m\u001B[34;49mnotice\u001B[0m\u001B[1;39;49m]\u001B[0m\u001B[39;49m To update, run: \u001B[0m\u001B[32;49mpip install --upgrade pip\u001B[0m\r\n",
      "Note: you may need to restart the kernel to use updated packages.\n"
     ]
    }
   ],
   "source": [
    "pip install xorbits"
   ],
   "metadata": {
    "collapsed": false
   }
  },
  {
   "cell_type": "code",
   "execution_count": 4,
   "outputs": [],
   "source": [
    "import xorbits.pandas as pd"
   ],
   "metadata": {
    "collapsed": false
   }
  },
  {
   "cell_type": "code",
   "execution_count": 5,
   "outputs": [],
   "source": [
    "df = pd.read_csv(\"/Users/lipi/Library/Mobile \"\n",
    "                 \"Documents/com~apple~CloudDocs/indicator/qt/stock.csv\", encoding=\"utf-8\")\n"
   ],
   "metadata": {
    "collapsed": false
   }
  },
  {
   "cell_type": "code",
   "execution_count": 7,
   "outputs": [
    {
     "data": {
      "text/plain": "  0%|          |   0.00/100 [00:00<?, ?it/s]",
      "application/vnd.jupyter.widget-view+json": {
       "version_major": 2,
       "version_minor": 0,
       "model_id": "dd576ba08a084869ada35b81c260858a"
      }
     },
     "metadata": {},
     "output_type": "display_data"
    },
    {
     "data": {
      "text/plain": "  1;\"sh601200\";\"2020-01-16\";\"12.28\";\"12.31\";\"12.00\";\"12.03\";\"-0.017157000000\";\"7420700.00\";\"89560000.00\";\"10516000000.00\";\"10988000000.00\";\"0.008489000000\";\"15.804189000000\";\"2018-10-31 00:00:00\";\"2018-09-30\";\"20.826713000000\";\"N;\"12.67056300\";\"1.891151000000\";\"12.03\";\"2020-01-18 15:21:19\";\"2020-01-18 15:21:19\"\n0  2;\"sh601200\";\"2020-01-15\";\"12.33\";\"12.43\";\"12....                                                                                                                                                                                                                                                                    \n1  3;\"sh601200\";\"2020-01-14\";\"12.03\";\"12.58\";\"11....                                                                                                                                                                                                                                                                    \n2  4;\"sh601200\";\"2020-01-13\";\"12.10\";\"12.10\";\"11....                                                                                                                                                                                                                                                                    \n3  5;\"sh601200\";\"2020-01-10\";\"12.20\";\"12.26\";\"11....                                                                                                                                                                                                                                                                    \n4  6;\"sh601200\";\"2020-01-09\";\"11.87\";\"12.29\";\"11....                                                                                                                                                                                                                                                                    \n5  7;\"sh601200\";\"2020-01-08\";\"11.71\";\"12.12\";\"11....                                                                                                                                                                                                                                                                    \n6  8;\"sh601200\";\"2020-01-07\";\"11.50\";\"11.86\";\"11....                                                                                                                                                                                                                                                                    \n7  9;\"sh601200\";\"2020-01-06\";\"11.19\";\"11.38\";\"11....                                                                                                                                                                                                                                                                    \n8  10;\"sh601200\";\"2020-01-03\";\"11.29\";\"11.32\";\"11...                                                                                                                                                                                                                                                                    \n9  11;\"sh601200\";\"2020-01-02\";\"11.16\";\"11.28\";\"11...                                                                                                                                                                                                                                                                    ",
      "text/html": "<div>\n<style scoped>\n    .dataframe tbody tr th:only-of-type {\n        vertical-align: middle;\n    }\n\n    .dataframe tbody tr th {\n        vertical-align: top;\n    }\n\n    .dataframe thead th {\n        text-align: right;\n    }\n</style>\n<table border=\"1\" class=\"dataframe\">\n  <thead>\n    <tr style=\"text-align: right;\">\n      <th></th>\n      <th>1;\"sh601200\";\"2020-01-16\";\"12.28\";\"12.31\";\"12.00\";\"12.03\";\"-0.017157000000\";\"7420700.00\";\"89560000.00\";\"10516000000.00\";\"10988000000.00\";\"0.008489000000\";\"15.804189000000\";\"2018-10-31 00:00:00\";\"2018-09-30\";\"20.826713000000\";\"N;\"12.67056300\";\"1.891151000000\";\"12.03\";\"2020-01-18 15:21:19\";\"2020-01-18 15:21:19\"</th>\n    </tr>\n  </thead>\n  <tbody>\n    <tr>\n      <th>0</th>\n      <td>2;\"sh601200\";\"2020-01-15\";\"12.33\";\"12.43\";\"12....</td>\n    </tr>\n    <tr>\n      <th>1</th>\n      <td>3;\"sh601200\";\"2020-01-14\";\"12.03\";\"12.58\";\"11....</td>\n    </tr>\n    <tr>\n      <th>2</th>\n      <td>4;\"sh601200\";\"2020-01-13\";\"12.10\";\"12.10\";\"11....</td>\n    </tr>\n    <tr>\n      <th>3</th>\n      <td>5;\"sh601200\";\"2020-01-10\";\"12.20\";\"12.26\";\"11....</td>\n    </tr>\n    <tr>\n      <th>4</th>\n      <td>6;\"sh601200\";\"2020-01-09\";\"11.87\";\"12.29\";\"11....</td>\n    </tr>\n    <tr>\n      <th>5</th>\n      <td>7;\"sh601200\";\"2020-01-08\";\"11.71\";\"12.12\";\"11....</td>\n    </tr>\n    <tr>\n      <th>6</th>\n      <td>8;\"sh601200\";\"2020-01-07\";\"11.50\";\"11.86\";\"11....</td>\n    </tr>\n    <tr>\n      <th>7</th>\n      <td>9;\"sh601200\";\"2020-01-06\";\"11.19\";\"11.38\";\"11....</td>\n    </tr>\n    <tr>\n      <th>8</th>\n      <td>10;\"sh601200\";\"2020-01-03\";\"11.29\";\"11.32\";\"11...</td>\n    </tr>\n    <tr>\n      <th>9</th>\n      <td>11;\"sh601200\";\"2020-01-02\";\"11.16\";\"11.28\";\"11...</td>\n    </tr>\n  </tbody>\n</table>\n</div>"
     },
     "execution_count": 7,
     "metadata": {},
     "output_type": "execute_result"
    }
   ],
   "source": [
    "df.head(10)"
   ],
   "metadata": {
    "collapsed": false
   }
  },
  {
   "cell_type": "code",
   "execution_count": 8,
   "outputs": [
    {
     "data": {
      "text/plain": "  0%|          |   0.00/100 [00:00<?, ?it/s]",
      "application/vnd.jupyter.widget-view+json": {
       "version_major": 2,
       "version_minor": 0,
       "model_id": "1a2010aa0e2d4b50bd9d291d76459fbc"
      }
     },
     "metadata": {},
     "output_type": "display_data"
    },
    {
     "data": {
      "text/plain": "  1;\"sh601200\";\"2020-01-16\";\"12.28\";\"12.31\";\"12.00\";\"12.03\";\"-0.017157000000\";\"7420700.00\";\"89560000.00\";\"10516000000.00\";\"10988000000.00\";\"0.008489000000\";\"15.804189000000\";\"2018-10-31 00:00:00\";\"2018-09-30\";\"20.826713000000\";\"N;\"12.67056300\";\"1.891151000000\";\"12.03\";\"2020-01-18 15:21:19\";\"2020-01-18 15:21:19\"\n0  2;\"sh601200\";\"2020-01-15\";\"12.33\";\"12.43\";\"12....                                                                                                                                                                                                                                                                    \n1  3;\"sh601200\";\"2020-01-14\";\"12.03\";\"12.58\";\"11....                                                                                                                                                                                                                                                                    \n2  4;\"sh601200\";\"2020-01-13\";\"12.10\";\"12.10\";\"11....                                                                                                                                                                                                                                                                    \n3  5;\"sh601200\";\"2020-01-10\";\"12.20\";\"12.26\";\"11....                                                                                                                                                                                                                                                                    \n4  6;\"sh601200\";\"2020-01-09\";\"11.87\";\"12.29\";\"11....                                                                                                                                                                                                                                                                    \n5  7;\"sh601200\";\"2020-01-08\";\"11.71\";\"12.12\";\"11....                                                                                                                                                                                                                                                                    \n6  8;\"sh601200\";\"2020-01-07\";\"11.50\";\"11.86\";\"11....                                                                                                                                                                                                                                                                    \n7  9;\"sh601200\";\"2020-01-06\";\"11.19\";\"11.38\";\"11....                                                                                                                                                                                                                                                                    \n8  10;\"sh601200\";\"2020-01-03\";\"11.29\";\"11.32\";\"11...                                                                                                                                                                                                                                                                    \n9  11;\"sh601200\";\"2020-01-02\";\"11.16\";\"11.28\";\"11...                                                                                                                                                                                                                                                                    ",
      "text/html": "<div>\n<style scoped>\n    .dataframe tbody tr th:only-of-type {\n        vertical-align: middle;\n    }\n\n    .dataframe tbody tr th {\n        vertical-align: top;\n    }\n\n    .dataframe thead th {\n        text-align: right;\n    }\n</style>\n<table border=\"1\" class=\"dataframe\">\n  <thead>\n    <tr style=\"text-align: right;\">\n      <th></th>\n      <th>1;\"sh601200\";\"2020-01-16\";\"12.28\";\"12.31\";\"12.00\";\"12.03\";\"-0.017157000000\";\"7420700.00\";\"89560000.00\";\"10516000000.00\";\"10988000000.00\";\"0.008489000000\";\"15.804189000000\";\"2018-10-31 00:00:00\";\"2018-09-30\";\"20.826713000000\";\"N;\"12.67056300\";\"1.891151000000\";\"12.03\";\"2020-01-18 15:21:19\";\"2020-01-18 15:21:19\"</th>\n    </tr>\n  </thead>\n  <tbody>\n    <tr>\n      <th>0</th>\n      <td>2;\"sh601200\";\"2020-01-15\";\"12.33\";\"12.43\";\"12....</td>\n    </tr>\n    <tr>\n      <th>1</th>\n      <td>3;\"sh601200\";\"2020-01-14\";\"12.03\";\"12.58\";\"11....</td>\n    </tr>\n    <tr>\n      <th>2</th>\n      <td>4;\"sh601200\";\"2020-01-13\";\"12.10\";\"12.10\";\"11....</td>\n    </tr>\n    <tr>\n      <th>3</th>\n      <td>5;\"sh601200\";\"2020-01-10\";\"12.20\";\"12.26\";\"11....</td>\n    </tr>\n    <tr>\n      <th>4</th>\n      <td>6;\"sh601200\";\"2020-01-09\";\"11.87\";\"12.29\";\"11....</td>\n    </tr>\n    <tr>\n      <th>5</th>\n      <td>7;\"sh601200\";\"2020-01-08\";\"11.71\";\"12.12\";\"11....</td>\n    </tr>\n    <tr>\n      <th>6</th>\n      <td>8;\"sh601200\";\"2020-01-07\";\"11.50\";\"11.86\";\"11....</td>\n    </tr>\n    <tr>\n      <th>7</th>\n      <td>9;\"sh601200\";\"2020-01-06\";\"11.19\";\"11.38\";\"11....</td>\n    </tr>\n    <tr>\n      <th>8</th>\n      <td>10;\"sh601200\";\"2020-01-03\";\"11.29\";\"11.32\";\"11...</td>\n    </tr>\n    <tr>\n      <th>9</th>\n      <td>11;\"sh601200\";\"2020-01-02\";\"11.16\";\"11.28\";\"11...</td>\n    </tr>\n  </tbody>\n</table>\n</div>"
     },
     "execution_count": 8,
     "metadata": {},
     "output_type": "execute_result"
    }
   ],
   "source": [
    "df.head(10)"
   ],
   "metadata": {
    "collapsed": false
   }
  },
  {
   "cell_type": "code",
   "execution_count": 11,
   "outputs": [
    {
     "data": {
      "text/plain": "  0%|          |   0.00/100 [00:00<?, ?it/s]",
      "application/vnd.jupyter.widget-view+json": {
       "version_major": 2,
       "version_minor": 0,
       "model_id": "b3bc7fc00671460da8b771434617607b"
      }
     },
     "metadata": {},
     "output_type": "display_data"
    },
    {
     "data": {
      "text/plain": "  1;\"sh601200\";\"2020-01-16\";\"12.28\";\"12.31\";\"12.00\";\"12.03\";\"-0.017157000000\";\"7420700.00\";\"89560000.00\";\"10516000000.00\";\"10988000000.00\";\"0.008489000000\";\"15.804189000000\";\"2018-10-31 00:00:00\";\"2018-09-30\";\"20.826713000000\";\"N;\"12.67056300\";\"1.891151000000\";\"12.03\";\"2020-01-18 15:21:19\";\"2020-01-18 15:21:19\"\n0  2;\"sh601200\";\"2020-01-15\";\"12.33\";\"12.43\";\"12....                                                                                                                                                                                                                                                                    \n1  3;\"sh601200\";\"2020-01-14\";\"12.03\";\"12.58\";\"11....                                                                                                                                                                                                                                                                    \n2  4;\"sh601200\";\"2020-01-13\";\"12.10\";\"12.10\";\"11....                                                                                                                                                                                                                                                                    \n3  5;\"sh601200\";\"2020-01-10\";\"12.20\";\"12.26\";\"11....                                                                                                                                                                                                                                                                    \n4  6;\"sh601200\";\"2020-01-09\";\"11.87\";\"12.29\";\"11....                                                                                                                                                                                                                                                                    \n5  7;\"sh601200\";\"2020-01-08\";\"11.71\";\"12.12\";\"11....                                                                                                                                                                                                                                                                    \n6  8;\"sh601200\";\"2020-01-07\";\"11.50\";\"11.86\";\"11....                                                                                                                                                                                                                                                                    \n7  9;\"sh601200\";\"2020-01-06\";\"11.19\";\"11.38\";\"11....                                                                                                                                                                                                                                                                    \n8  10;\"sh601200\";\"2020-01-03\";\"11.29\";\"11.32\";\"11...                                                                                                                                                                                                                                                                    \n9  11;\"sh601200\";\"2020-01-02\";\"11.16\";\"11.28\";\"11...                                                                                                                                                                                                                                                                    ",
      "text/html": "<div>\n<style scoped>\n    .dataframe tbody tr th:only-of-type {\n        vertical-align: middle;\n    }\n\n    .dataframe tbody tr th {\n        vertical-align: top;\n    }\n\n    .dataframe thead th {\n        text-align: right;\n    }\n</style>\n<table border=\"1\" class=\"dataframe\">\n  <thead>\n    <tr style=\"text-align: right;\">\n      <th></th>\n      <th>1;\"sh601200\";\"2020-01-16\";\"12.28\";\"12.31\";\"12.00\";\"12.03\";\"-0.017157000000\";\"7420700.00\";\"89560000.00\";\"10516000000.00\";\"10988000000.00\";\"0.008489000000\";\"15.804189000000\";\"2018-10-31 00:00:00\";\"2018-09-30\";\"20.826713000000\";\"N;\"12.67056300\";\"1.891151000000\";\"12.03\";\"2020-01-18 15:21:19\";\"2020-01-18 15:21:19\"</th>\n    </tr>\n  </thead>\n  <tbody>\n    <tr>\n      <th>0</th>\n      <td>2;\"sh601200\";\"2020-01-15\";\"12.33\";\"12.43\";\"12....</td>\n    </tr>\n    <tr>\n      <th>1</th>\n      <td>3;\"sh601200\";\"2020-01-14\";\"12.03\";\"12.58\";\"11....</td>\n    </tr>\n    <tr>\n      <th>2</th>\n      <td>4;\"sh601200\";\"2020-01-13\";\"12.10\";\"12.10\";\"11....</td>\n    </tr>\n    <tr>\n      <th>3</th>\n      <td>5;\"sh601200\";\"2020-01-10\";\"12.20\";\"12.26\";\"11....</td>\n    </tr>\n    <tr>\n      <th>4</th>\n      <td>6;\"sh601200\";\"2020-01-09\";\"11.87\";\"12.29\";\"11....</td>\n    </tr>\n    <tr>\n      <th>5</th>\n      <td>7;\"sh601200\";\"2020-01-08\";\"11.71\";\"12.12\";\"11....</td>\n    </tr>\n    <tr>\n      <th>6</th>\n      <td>8;\"sh601200\";\"2020-01-07\";\"11.50\";\"11.86\";\"11....</td>\n    </tr>\n    <tr>\n      <th>7</th>\n      <td>9;\"sh601200\";\"2020-01-06\";\"11.19\";\"11.38\";\"11....</td>\n    </tr>\n    <tr>\n      <th>8</th>\n      <td>10;\"sh601200\";\"2020-01-03\";\"11.29\";\"11.32\";\"11...</td>\n    </tr>\n    <tr>\n      <th>9</th>\n      <td>11;\"sh601200\";\"2020-01-02\";\"11.16\";\"11.28\";\"11...</td>\n    </tr>\n  </tbody>\n</table>\n</div>"
     },
     "execution_count": 11,
     "metadata": {},
     "output_type": "execute_result"
    }
   ],
   "source": [
    "df.head(10)"
   ],
   "metadata": {
    "collapsed": false
   }
  },
  {
   "cell_type": "code",
   "execution_count": null,
   "outputs": [],
   "source": [],
   "metadata": {
    "collapsed": false
   }
  }
 ],
 "metadata": {
  "kernelspec": {
   "display_name": "Python 3",
   "language": "python",
   "name": "python3"
  },
  "language_info": {
   "codemirror_mode": {
    "name": "ipython",
    "version": 2
   },
   "file_extension": ".py",
   "mimetype": "text/x-python",
   "name": "python",
   "nbconvert_exporter": "python",
   "pygments_lexer": "ipython2",
   "version": "2.7.6"
  }
 },
 "nbformat": 4,
 "nbformat_minor": 0
}
